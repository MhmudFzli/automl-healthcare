{
 "cells": [
  {
   "cell_type": "code",
   "execution_count": 1,
   "id": "2131d032",
   "metadata": {},
   "outputs": [],
   "source": [
    "import optuna\n",
    "from optuna.samplers import TPESampler\n",
    "import warnings\n",
    "\n",
    "import random\n",
    "import matplotlib.pyplot as plt\n",
    "import numpy as np\n",
    "import pandas as pd\n",
    "import seaborn as sns\n",
    "from catboost import CatBoostClassifier, CatBoostRegressor\n",
    "from lightgbm import LGBMClassifier\n",
    "from sklearn.compose import ColumnTransformer\n",
    "from sklearn.feature_selection import mutual_info_regression\n",
    "from sklearn.linear_model import Lasso, Ridge, RidgeCV\n",
    "from sklearn.metrics import (\n",
    "    accuracy_score,\n",
    "    f1_score,\n",
    "    make_scorer,\n",
    "    precision_score,\n",
    "    recall_score,\n",
    "    roc_auc_score,\n",
    ")\n",
    "from sklearn.model_selection import StratifiedKFold, cross_val_score, train_test_split\n",
    "from sklearn.pipeline import Pipeline\n",
    "from sklearn.preprocessing import OneHotEncoder, OrdinalEncoder, StandardScaler\n",
    "from xgboost import XGBClassifier\n",
    "\n",
    "warnings.filterwarnings(\"ignore\")"
   ]
  },
  {
   "cell_type": "markdown",
   "id": "25d7b146",
   "metadata": {},
   "source": [
    "### Modifyable Params:"
   ]
  },
  {
   "cell_type": "code",
   "execution_count": 2,
   "id": "58a71938",
   "metadata": {},
   "outputs": [],
   "source": [
    "disease = \"hypertension\""
   ]
  },
  {
   "cell_type": "markdown",
   "id": "a4c0ef63",
   "metadata": {},
   "source": [
    "### 0. Extract icd_code(s) for specific disease (e.g. hypertension) from d_icd_diagnoses.csv"
   ]
  },
  {
   "cell_type": "code",
   "execution_count": 3,
   "id": "305374d0",
   "metadata": {},
   "outputs": [],
   "source": [
    "import pandas as pd\n",
    "import numpy as np\n",
    "\n",
    "d_icd_diagnoses_df = pd.read_csv(\n",
    "    f\"E:/Chrome Dls/MIMIC_IV_Core/hosp/d_icd_diagnoses.csv\"\n",
    ")\n",
    "\n",
    "d_icd_diagnoses_df = d_icd_diagnoses_df.drop_duplicates()"
   ]
  },
  {
   "cell_type": "code",
   "execution_count": 4,
   "id": "9c36cc71",
   "metadata": {},
   "outputs": [
    {
     "data": {
      "text/html": [
       "<div>\n",
       "<style scoped>\n",
       "    .dataframe tbody tr th:only-of-type {\n",
       "        vertical-align: middle;\n",
       "    }\n",
       "\n",
       "    .dataframe tbody tr th {\n",
       "        vertical-align: top;\n",
       "    }\n",
       "\n",
       "    .dataframe thead th {\n",
       "        text-align: right;\n",
       "    }\n",
       "</style>\n",
       "<table border=\"1\" class=\"dataframe\">\n",
       "  <thead>\n",
       "    <tr style=\"text-align: right;\">\n",
       "      <th></th>\n",
       "      <th>icd_code</th>\n",
       "      <th>icd_version</th>\n",
       "      <th>long_title</th>\n",
       "    </tr>\n",
       "  </thead>\n",
       "  <tbody>\n",
       "    <tr>\n",
       "      <th>0</th>\n",
       "      <td>10</td>\n",
       "      <td>9</td>\n",
       "      <td>Cholera due to vibrio cholerae</td>\n",
       "    </tr>\n",
       "    <tr>\n",
       "      <th>1</th>\n",
       "      <td>11</td>\n",
       "      <td>9</td>\n",
       "      <td>Cholera due to vibrio cholerae el tor</td>\n",
       "    </tr>\n",
       "    <tr>\n",
       "      <th>2</th>\n",
       "      <td>19</td>\n",
       "      <td>9</td>\n",
       "      <td>Cholera, unspecified</td>\n",
       "    </tr>\n",
       "    <tr>\n",
       "      <th>3</th>\n",
       "      <td>20</td>\n",
       "      <td>9</td>\n",
       "      <td>Typhoid fever</td>\n",
       "    </tr>\n",
       "    <tr>\n",
       "      <th>4</th>\n",
       "      <td>21</td>\n",
       "      <td>9</td>\n",
       "      <td>Paratyphoid fever A</td>\n",
       "    </tr>\n",
       "  </tbody>\n",
       "</table>\n",
       "</div>"
      ],
      "text/plain": [
       "  icd_code  icd_version                             long_title\n",
       "0       10            9         Cholera due to vibrio cholerae\n",
       "1       11            9  Cholera due to vibrio cholerae el tor\n",
       "2       19            9                   Cholera, unspecified\n",
       "3       20            9                          Typhoid fever\n",
       "4       21            9                    Paratyphoid fever A"
      ]
     },
     "execution_count": 4,
     "metadata": {},
     "output_type": "execute_result"
    }
   ],
   "source": [
    "d_icd_diagnoses_df.head()"
   ]
  },
  {
   "cell_type": "code",
   "execution_count": 5,
   "id": "ad6f1b2d",
   "metadata": {},
   "outputs": [
    {
     "name": "stdout",
     "output_type": "stream",
     "text": [
      "<class 'pandas.core.frame.DataFrame'>\n",
      "RangeIndex: 112107 entries, 0 to 112106\n",
      "Data columns (total 3 columns):\n",
      " #   Column       Non-Null Count   Dtype \n",
      "---  ------       --------------   ----- \n",
      " 0   icd_code     112107 non-null  object\n",
      " 1   icd_version  112107 non-null  int64 \n",
      " 2   long_title   112107 non-null  object\n",
      "dtypes: int64(1), object(2)\n",
      "memory usage: 2.6+ MB\n"
     ]
    }
   ],
   "source": [
    "d_icd_diagnoses_df.info()"
   ]
  },
  {
   "cell_type": "code",
   "execution_count": 5,
   "id": "39489076",
   "metadata": {},
   "outputs": [
    {
     "name": "stdout",
     "output_type": "stream",
     "text": [
      "       icd_code                                         long_title\n",
      "3524       3482                   Benign intracranial hypertension\n",
      "3850      36504                                Ocular hypertension\n",
      "4649       4010                   Malignant essential hypertension\n",
      "4650       4011                      Benign essential hypertension\n",
      "4651       4019                 Unspecified essential hypertension\n",
      "...         ...                                                ...\n",
      "39065      O169  Unspecified maternal hypertension, unspecified...\n",
      "42059      P292                              Neonatal hypertension\n",
      "42061     P2930                  Pulmonary hypertension of newborn\n",
      "43372      R030  Elevated blood-pressure reading, without diagn...\n",
      "103933     V811                         Screening for hypertension\n",
      "\n",
      "[160 rows x 2 columns]\n"
     ]
    }
   ],
   "source": [
    "# filter rows where 'long_title' contains \"hypertension\" (case-insensitive)\n",
    "htn_codes = d_icd_diagnoses_df[\n",
    "    d_icd_diagnoses_df['long_title'].str.contains(disease, case=False, na=False)\n",
    "]\n",
    "\n",
    "# show only the icd_code column (or both code + title if you want to inspect)\n",
    "print(htn_codes[['icd_code', 'long_title']])\n"
   ]
  },
  {
   "cell_type": "markdown",
   "id": "7ca78c19",
   "metadata": {},
   "source": [
    "### 1. Identify patients (subject_id) with certain Diseases"
   ]
  },
  {
   "cell_type": "code",
   "execution_count": 6,
   "id": "9b03c884",
   "metadata": {},
   "outputs": [],
   "source": [
    "diagnoses_icd_df = pd.read_csv(\n",
    "    f\"E:/Chrome Dls/MIMIC_IV_Core/hosp/diagnoses_icd.csv\"\n",
    ")\n",
    "\n",
    "diagnoses_icd_df = diagnoses_icd_df.drop_duplicates()"
   ]
  },
  {
   "cell_type": "code",
   "execution_count": 7,
   "id": "1ed48ef5",
   "metadata": {},
   "outputs": [
    {
     "name": "stdout",
     "output_type": "stream",
     "text": [
      "(1048575, 5)\n"
     ]
    }
   ],
   "source": [
    "print(diagnoses_icd_df.shape)"
   ]
  },
  {
   "cell_type": "code",
   "execution_count": 8,
   "id": "35137980",
   "metadata": {},
   "outputs": [
    {
     "name": "stdout",
     "output_type": "stream",
     "text": [
      "unique patients:  36899\n"
     ]
    }
   ],
   "source": [
    "print(\"unique patients: \", len(np.unique(diagnoses_icd_df['subject_id'])))"
   ]
  },
  {
   "cell_type": "code",
   "execution_count": 10,
   "id": "ded0f7b4",
   "metadata": {},
   "outputs": [
    {
     "name": "stdout",
     "output_type": "stream",
     "text": [
      "patients_of_hypertension:  16608\n"
     ]
    }
   ],
   "source": [
    "# filter rows where 'long_title' contains \"hypertension\" (case-insensitive)\n",
    "htn_patients_df = diagnoses_icd_df[\n",
    "    diagnoses_icd_df['icd_code'].isin(htn_codes['icd_code'])\n",
    "]\n",
    "\n",
    "htn_patients = np.unique(htn_patients_df['subject_id'])\n",
    "print(\"patients_of_hypertension: \", len(htn_patients))\n"
   ]
  },
  {
   "cell_type": "markdown",
   "id": "3cfffc6f",
   "metadata": {},
   "source": [
    "### 2. Build Main Dataset"
   ]
  },
  {
   "cell_type": "code",
   "execution_count": 13,
   "id": "1db80d68",
   "metadata": {},
   "outputs": [
    {
     "name": "stdout",
     "output_type": "stream",
     "text": [
      "unique patients:  364627\n"
     ]
    }
   ],
   "source": [
    "patients_df = pd.read_csv(\n",
    "    f\"E:/Chrome Dls/MIMIC_IV_Core/hosp/patients.csv\"\n",
    ")\n",
    "\n",
    "patients_df = patients_df.drop_duplicates()\n",
    "\n",
    "print(\"unique patients: \", len(np.unique(patients_df['subject_id'])))"
   ]
  },
  {
   "cell_type": "code",
   "execution_count": 14,
   "id": "cc24e011",
   "metadata": {},
   "outputs": [],
   "source": [
    "patients_df = patients_df.drop(columns=['anchor_year', 'anchor_year_group', 'dod'])\n"
   ]
  },
  {
   "cell_type": "code",
   "execution_count": 15,
   "id": "baa0073d",
   "metadata": {},
   "outputs": [],
   "source": [
    "# convert patients_of_interest to a set for faster lookup\n",
    "pat_set = set(np.unique(diagnoses_icd_df['subject_id']))\n",
    "\n",
    "# subsample only patients presented in diagnoses_icd.csv (has a record of disease != no hypertensions only!!!)\n",
    "htn_patients_df = patients_df[\n",
    "    patients_df['subject_id'].isin(pat_set)\n",
    "]\n",
    "\n",
    "patients_df = htn_patients_df"
   ]
  },
  {
   "cell_type": "code",
   "execution_count": 16,
   "id": "d1548d85",
   "metadata": {},
   "outputs": [
    {
     "name": "stdout",
     "output_type": "stream",
     "text": [
      "(36899, 4)\n",
      "label\n",
      "0    0.549907\n",
      "1    0.450093\n",
      "Name: proportion, dtype: float64\n"
     ]
    },
    {
     "data": {
      "text/html": [
       "<div>\n",
       "<style scoped>\n",
       "    .dataframe tbody tr th:only-of-type {\n",
       "        vertical-align: middle;\n",
       "    }\n",
       "\n",
       "    .dataframe tbody tr th {\n",
       "        vertical-align: top;\n",
       "    }\n",
       "\n",
       "    .dataframe thead th {\n",
       "        text-align: right;\n",
       "    }\n",
       "</style>\n",
       "<table border=\"1\" class=\"dataframe\">\n",
       "  <thead>\n",
       "    <tr style=\"text-align: right;\">\n",
       "      <th></th>\n",
       "      <th>subject_id</th>\n",
       "      <th>gender</th>\n",
       "      <th>anchor_age</th>\n",
       "      <th>label</th>\n",
       "    </tr>\n",
       "  </thead>\n",
       "  <tbody>\n",
       "    <tr>\n",
       "      <th>0</th>\n",
       "      <td>10000032</td>\n",
       "      <td>F</td>\n",
       "      <td>52</td>\n",
       "      <td>1</td>\n",
       "    </tr>\n",
       "    <tr>\n",
       "      <th>3</th>\n",
       "      <td>10000068</td>\n",
       "      <td>F</td>\n",
       "      <td>19</td>\n",
       "      <td>0</td>\n",
       "    </tr>\n",
       "    <tr>\n",
       "      <th>4</th>\n",
       "      <td>10000084</td>\n",
       "      <td>M</td>\n",
       "      <td>72</td>\n",
       "      <td>0</td>\n",
       "    </tr>\n",
       "    <tr>\n",
       "      <th>6</th>\n",
       "      <td>10000108</td>\n",
       "      <td>M</td>\n",
       "      <td>25</td>\n",
       "      <td>0</td>\n",
       "    </tr>\n",
       "    <tr>\n",
       "      <th>8</th>\n",
       "      <td>10000117</td>\n",
       "      <td>F</td>\n",
       "      <td>48</td>\n",
       "      <td>0</td>\n",
       "    </tr>\n",
       "  </tbody>\n",
       "</table>\n",
       "</div>"
      ],
      "text/plain": [
       "   subject_id gender  anchor_age  label\n",
       "0    10000032      F          52      1\n",
       "3    10000068      F          19      0\n",
       "4    10000084      M          72      0\n",
       "6    10000108      M          25      0\n",
       "8    10000117      F          48      0"
      ]
     },
     "execution_count": 16,
     "metadata": {},
     "output_type": "execute_result"
    }
   ],
   "source": [
    "# convert patients_of_interest to a set for faster lookup\n",
    "patients_set = set(htn_patients)\n",
    "\n",
    "# create label column: 1 if subject_id in patients_of_interest else 0\n",
    "patients_df['label'] = patients_df['subject_id'].isin(patients_set).astype(int)\n",
    "\n",
    "print(patients_df.shape)\n",
    "print(patients_df['label'].value_counts(normalize=True))\n",
    "patients_df.head()"
   ]
  },
  {
   "cell_type": "code",
   "execution_count": 17,
   "id": "d92a4e5e",
   "metadata": {},
   "outputs": [],
   "source": [
    "patients_df.to_csv(\"patients.csv\")\n",
    "\n",
    "# turn set into a DataFrame with a proper column name\n",
    "subject_id_df = pd.DataFrame({\"subject_id\": list(pat_set)})\n",
    "\n",
    "# save to CSV without index\n",
    "subject_id_df.to_csv(\"patients_subject_id.csv\", index=False)"
   ]
  }
 ],
 "metadata": {
  "kernelspec": {
   "display_name": "py310",
   "language": "python",
   "name": "python3"
  },
  "language_info": {
   "codemirror_mode": {
    "name": "ipython",
    "version": 3
   },
   "file_extension": ".py",
   "mimetype": "text/x-python",
   "name": "python",
   "nbconvert_exporter": "python",
   "pygments_lexer": "ipython3",
   "version": "3.10.14"
  }
 },
 "nbformat": 4,
 "nbformat_minor": 5
}
